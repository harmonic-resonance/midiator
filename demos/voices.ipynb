{
 "cells": [
  {
   "cell_type": "markdown",
   "id": "2ecceb88-db6d-4983-9d9e-cb63fc71d273",
   "metadata": {},
   "source": [
    "# voices\n",
    "\n",
    "voices are contained in the KBH_Real_and_Swell_Choir.sf2 soundfont\n",
    "\n",
    "timidity requires `voices.cfg` file to establish voices on bank 1\n",
    "\n"
   ]
  },
  {
   "cell_type": "code",
   "execution_count": 1,
   "id": "8cbceaa2-16e3-45e9-a52f-161fd0e60e6e",
   "metadata": {},
   "outputs": [
    {
     "name": "stdout",
     "output_type": "stream",
     "text": [
      "Playing voices.mid\n",
      "MIDI file: voices.mid\n",
      "Format: 1  Tracks: 3  Divisions: 480\n",
      "Sequence: meta\n",
      "Track name: Solo Ooh\n",
      "Track name: Solo Aah\n",
      "Playing time: ~18 seconds\n",
      "Notes cut: 0\n",
      "Notes lost totally: 0\n"
     ]
    }
   ],
   "source": [
    "import phi_midi as pm\n",
    "\n",
    "mf = pm.new_midi()\n",
    "\n",
    "   \n",
    "\n",
    "v1 = pm.add_voice_track(mf, name='Solo Ooh')\n",
    "v2 = pm.add_voice_track(mf, name='Solo Aah')\n",
    "\n",
    "pm.add_voice_note(v1, 72, duration=1920)\n",
    "pm.add_voice_note(v1, 70, duration=1920)\n",
    "\n",
    "pm.add_voice_chord(v1, 60, duration=1920*2, chord=pm.CHORDS['Major7'])\n",
    "\n",
    "pm.add_voice_note(v2, 0, duration=1920*3)\n",
    "pm.add_voice_note(v2, 72, duration=1920)\n",
    "pm.add_voice_chord(v2, 60, duration=1920*2, chord=pm.CHORDS['Sus2'])\n",
    "pm.add_voice_note(v2, 69, duration=1920)\n",
    "\n",
    "\n",
    "mf.save('voices.mid')\n",
    "\n",
    "!timidity -c voices.cfg voices.mid"
   ]
  },
  {
   "cell_type": "code",
   "execution_count": 21,
   "id": "954d054b-101c-44f9-8d2f-a20903779ab4",
   "metadata": {},
   "outputs": [
    {
     "data": {
      "text/plain": [
       "{'bank': 1, 'subbank': 0, 'channel': 9, 'program': 0}"
      ]
     },
     "execution_count": 21,
     "metadata": {},
     "output_type": "execute_result"
    }
   ],
   "source": [
    "VOICES['Solo Ooh']"
   ]
  },
  {
   "cell_type": "code",
   "execution_count": 5,
   "id": "1815982e-9382-4b0d-8562-a20908a97262",
   "metadata": {},
   "outputs": [
    {
     "data": {
      "text/plain": [
       "'Solo Ooh'"
      ]
     },
     "execution_count": 5,
     "metadata": {},
     "output_type": "execute_result"
    }
   ],
   "source": [
    "solo_ooh.name"
   ]
  },
  {
   "cell_type": "code",
   "execution_count": null,
   "id": "1e9c6f0a-1f51-4028-97ec-8fd6a78bd20c",
   "metadata": {},
   "outputs": [],
   "source": []
  }
 ],
 "metadata": {
  "kernelspec": {
   "display_name": "Python 3 (ipykernel)",
   "language": "python",
   "name": "python3"
  },
  "language_info": {
   "codemirror_mode": {
    "name": "ipython",
    "version": 3
   },
   "file_extension": ".py",
   "mimetype": "text/x-python",
   "name": "python",
   "nbconvert_exporter": "python",
   "pygments_lexer": "ipython3",
   "version": "3.9.5"
  }
 },
 "nbformat": 4,
 "nbformat_minor": 5
}
